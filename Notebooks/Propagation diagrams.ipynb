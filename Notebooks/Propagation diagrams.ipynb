{
 "cells": [
  {
   "cell_type": "markdown",
   "metadata": {},
   "source": [
    "# asteroseismology@unibo  - computer-based exercises\n",
    "## propagation diagrams of stellar oscillation modes\n",
    "31 March 2022\n"
   ]
  },
  {
   "cell_type": "markdown",
   "metadata": {},
   "source": [
    "***\n",
    "###  Familiarise yourself with propagation diagrams\n",
    "\n",
    "For a series of models along the evolution of 2 $\\rm M_\\odot$ star (or models of any low- or intermediate-mass star!):\n",
    "\n",
    "1. Plot the behaviour of the Lamb and Brunt-Väisälä frequencies and identify, depending on the frequency and the angular degree, in which regions of the models pressure and gravity oscillation modes are trapped.  \n",
    "\n",
    "2. Discuss in which evolutionary stages it is more likely that mixed modes appear in the spectrum\n",
    "\n",
    "3. Focussing on the MS models that you computed using differnt convective-core overshooting parameters, discuss if and how the Brunt-Väisälä frequency bears signature of the additional mixing processes.\n",
    "\n",
    "\n"
   ]
  },
  {
   "cell_type": "markdown",
   "metadata": {},
   "source": [
    "### Appendix: useful cells to read MESA files"
   ]
  },
  {
   "cell_type": "code",
   "execution_count": null,
   "metadata": {
    "scrolled": true
   },
   "outputs": [],
   "source": [
    "import pandas as pd\n",
    "import numpy as np\n",
    "from matplotlib import pyplot as plt\n",
    "\n",
    "#this is just an example to get you started\n",
    "dir_models='~/astrosoft/MesaModels/tutorial/LOGS/'\n",
    "filename=['profile62.data']\n",
    "\n",
    "M1 = pd.read_csv(dir_models+filename[0], delim_whitespace = True, skiprows = 5)\n",
    "print(M1.head(2))"
   ]
  },
  {
   "cell_type": "code",
   "execution_count": null,
   "metadata": {},
   "outputs": [],
   "source": [
    "M=M1\n",
    "\n",
    "plt.plot(M['mass'],M['x_mass_fraction_H'],label='X')\n",
    "plt.plot(M['mass'],M['y_mass_fraction_He'],label='Y')\n",
    "plt.plot(M['mass'],M['z_mass_fraction_metals'],label='Z')\n",
    "\n",
    "\n",
    "plt.xlabel('m [M$_\\odot$]')\n",
    "plt.ylabel('mass fraction')\n",
    "plt.legend()"
   ]
  },
  {
   "cell_type": "code",
   "execution_count": null,
   "metadata": {},
   "outputs": [],
   "source": [
    "filename=['history.data']\n",
    "\n",
    "M1track = pd.read_csv(dir_models+filename[0], delim_whitespace = True, skiprows = 5)\n",
    "\n",
    "pd.set_option('max_columns', 100)\n",
    "\n",
    "(M1track.head(1))"
   ]
  },
  {
   "cell_type": "code",
   "execution_count": null,
   "metadata": {},
   "outputs": [],
   "source": [
    "fig = plt.figure(figsize=(8, 6))\n",
    "\n",
    "Mtrack=M1track\n",
    "M_sub=Mtrack[(Mtrack['luminosity']< 100)]\n",
    "\n",
    "\n",
    "plt.plot(M_sub['effective_T'],M_sub['luminosity'])\n",
    "plt.gca().invert_xaxis()\n",
    "plt.yscale('log')\n",
    "#plt.xscale('log')\n",
    "plt.scatter(M_sub['effective_T'],M_sub['luminosity'],c=M_sub['center_he4'])\n",
    "\n",
    "plt.xlabel('Teff [K]')\n",
    "plt.ylabel('L [L$_\\odot$]');\n",
    "plt.grid(True)\n",
    "cbar = plt.colorbar(extend='both')\n",
    "cbar.minorticks_on()"
   ]
  }
 ],
 "metadata": {
  "kernelspec": {
   "display_name": "Python 3 (ipykernel)",
   "language": "python",
   "name": "python3"
  },
  "language_info": {
   "codemirror_mode": {
    "name": "ipython",
    "version": 3
   },
   "file_extension": ".py",
   "mimetype": "text/x-python",
   "name": "python",
   "nbconvert_exporter": "python",
   "pygments_lexer": "ipython3",
   "version": "3.9.7"
  }
 },
 "nbformat": 4,
 "nbformat_minor": 2
}
