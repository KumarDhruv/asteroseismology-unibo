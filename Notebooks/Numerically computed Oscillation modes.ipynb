{
 "cells": [
  {
   "cell_type": "markdown",
   "metadata": {},
   "source": [
    "# asteroseismology@unibo  - computer-based exercises\n",
    "## numerically computed oscillation modes\n",
    "21 April 2022\n"
   ]
  },
  {
   "cell_type": "markdown",
   "metadata": {},
   "source": [
    "### Asymptotic patterns of high-order pressure and gravity modes"
   ]
  },
  {
   "cell_type": "markdown",
   "metadata": {},
   "source": [
    "Consider a model two models of your choice, one on the main sequence and one the red-giant branch and:\n",
    "\n",
    "- compute a first estimate of the expected first-order asymptotic patterns for high-order p modes and high-order g modes\n",
    "- based on a propagation diagram, discuss the expected properties of modes in different frequency domains.\n",
    "\n",
    "Then, numerically compute radial and non-radial ($l=1,2$) pulsation modes in a frequency domain from $\\frac{1}{2}\\nu_{\\rm max}$ to $\\frac{3}{2}\\nu_{\\rm max}$\n",
    "\n",
    "- plot and discuss frequency or period patterns of the numerically computed modes. How do they compare with the predicted asymptotic patterns?\n",
    "- do you see any significant deviations from the expected patterns and, if you do, what is the likely origin of these departures from the expected pattern? \n",
    "- to support your description and interpretation, save and plot the radial and horizontal displacement eigenfunctions for few representative pulsation modes"
   ]
  }
 ],
 "metadata": {
  "kernelspec": {
   "display_name": "Python 3",
   "language": "python",
   "name": "python3"
  },
  "language_info": {
   "codemirror_mode": {
    "name": "ipython",
    "version": 3
   },
   "file_extension": ".py",
   "mimetype": "text/x-python",
   "name": "python",
   "nbconvert_exporter": "python",
   "pygments_lexer": "ipython3",
   "version": "3.8.5"
  }
 },
 "nbformat": 4,
 "nbformat_minor": 2
}
