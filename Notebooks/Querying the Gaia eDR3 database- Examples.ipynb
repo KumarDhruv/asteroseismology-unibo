{
 "cells": [
  {
   "cell_type": "markdown",
   "metadata": {},
   "source": [
    "# Querying the Gaia eDR3 database\n",
    "17 March 2022\n"
   ]
  },
  {
   "cell_type": "markdown",
   "metadata": {},
   "source": [
    "***\n",
    "## The Hertzsprung-Russell Diagram in the Gaia era\n",
    "For additional information about the ESA Gaia mission, have a look at: https://sci.esa.int/web/gaia and for information specific the the current data released (DR2) see https://www.cosmos.esa.int/web/gaia/data-release-2"
   ]
  },
  {
   "cell_type": "markdown",
   "metadata": {},
   "source": [
    "Loading a few useful packages. Install them on your local computer if needed, e.g. via `pip install astroquery`"
   ]
  },
  {
   "cell_type": "code",
   "execution_count": null,
   "metadata": {
    "scrolled": false
   },
   "outputs": [],
   "source": [
    "import astropy.units as u\n",
    "from astropy.coordinates.sky_coordinate import SkyCoord\n",
    "from astropy.units import Quantity\n",
    "from astroquery.gaia import Gaia\n",
    "\n",
    "import pandas as pd\n",
    "import numpy as np\n",
    "import math as m\n",
    "from matplotlib import pyplot as plt"
   ]
  },
  {
   "cell_type": "markdown",
   "metadata": {},
   "source": [
    "### Querying the Gaia DR2 database"
   ]
  },
  {
   "cell_type": "markdown",
   "metadata": {},
   "source": [
    "This shows you all the tables with Gaia data available on the database (don't worry about reading through!)"
   ]
  },
  {
   "cell_type": "code",
   "execution_count": null,
   "metadata": {},
   "outputs": [],
   "source": [
    "from astroquery.gaia import Gaia\n",
    "tables = Gaia.load_tables(only_names=True)\n",
    "for table in (tables):\n",
    "    print (table.get_qualified_name())"
   ]
  },
  {
   "cell_type": "markdown",
   "metadata": {},
   "source": [
    "Here below we query the Gaia database using *ADQL*, the Astronomy Data Query Language. Do not worry about the details of the format, but focus on the criteria used to make the selection:\n",
    "\n",
    "- the apparent magnitude in the Gaia G band, `phot_g_mean_mag`\n",
    "- the parallax itself `gaia.parallax`, expressed in mas (milli arcseconds)\n",
    "- the relative uncertainty on the parallax, so we consider here only stars with precise (10%) determiations of parallax (distance)\n",
    "\n",
    "In the example given here we are defining a sample limited by the **apparent** magnitue of the observed stars, `gaia.phot_g_mean_mag < 8`."
   ]
  },
  {
   "cell_type": "code",
   "execution_count": null,
   "metadata": {
    "scrolled": false
   },
   "outputs": [],
   "source": [
    "job = Gaia.launch_job_async(\"SELECT * \\\n",
    "FROM gaiaedr3.gaia_source AS gaia \\\n",
    "WHERE \\\n",
    "gaia.phot_g_mean_mag < 8 AND \\\n",
    "gaia.parallax > 0 AND \\\n",
    "gaia.parallax_error/gaia.parallax <= 0.05;\", dump_to_file=True)\n",
    "print (job)"
   ]
  },
  {
   "cell_type": "markdown",
   "metadata": {},
   "source": [
    "Load the results into a table, and inspect the content. "
   ]
  },
  {
   "cell_type": "code",
   "execution_count": null,
   "metadata": {},
   "outputs": [],
   "source": [
    "res = job.get_results()\n",
    "res"
   ]
  },
  {
   "cell_type": "markdown",
   "metadata": {},
   "source": [
    "There is of course an enourmous amount of information! For now, just focus on these quantities, and on their combination:\n",
    "\n",
    "- `'parallax'` in mas (milli arcseconds)\n",
    "- `'phot_bp_mean_mag'` apparent magnitude in the Gaia Bp band (blue)\n",
    "- `'phot_rp_mean_mag'` apparent magnitude in the Gaia Rp band (red)\n",
    "- `'phot_g_mean_mag'` apparent magnitude in the Gaia G band (green), see https://www.cosmos.esa.int/web/gaia/iow_20180316 for more info on the Gaia photometric passbands.\n",
    "\n",
    "as an exercise: \n",
    "1. plot a color-magnitude diagram (CMD), e.g. `Bp-Rp` vs the **absolute** magniture in the `G` band computed using the information you have on the parallax. Consider using a density plot or e.g. `hexbin` to highlight highly populated regions in the diagram.\n",
    "2. can you recognise on the CMD any features you already know? Can you roughly place the Sun on this diagram?\n",
    "3. explore CMDs resulting from different queries. A suggestion: how and why does the CMD change if you plot a distance-limited sample (e.g. all stars within 50pc) as opposed to a magnitude-limited sample?\n",
    "\n",
    "**Warning** be careful about the selection criteria in the query: in the database there are \\~1.5 billion sources down to magnitude G\\~21!!!!"
   ]
  },
  {
   "cell_type": "markdown",
   "metadata": {},
   "source": [
    "## Worked out example"
   ]
  },
  {
   "cell_type": "markdown",
   "metadata": {},
   "source": [
    "Remember the relation between apparent magnitude, absolute magnitude and distance or parallax\n",
    "\n",
    "$m=M +5\\log{d}-5$\n",
    "\n",
    "where d is the distance in pc. From the parallax ($\\varpi$, in mas) we can infer a distance (pc):\n",
    "\n",
    "$d=1000/\\varpi$"
   ]
  },
  {
   "cell_type": "code",
   "execution_count": null,
   "metadata": {},
   "outputs": [],
   "source": [
    "abs_mag=res['phot_g_mean_mag']-5*np.log10(1000./res['parallax'])+5;\n",
    "col=res['phot_bp_mean_mag']-res['phot_rp_mean_mag'];\n",
    "fig = plt.figure(figsize=(9, 7))\n",
    "#plt.scatter(col,abs_mag,10)\n",
    "plt.scatter(col,abs_mag,4, alpha=0.01)\n",
    "\n",
    "plt.ylabel('$M_{G}$')\n",
    "plt.xlabel('$m_{Bp}-m_{Rp}$')\n",
    "plt.ylim([-5, 7.5])\n",
    "plt.xlim([-0.5, 4])\n",
    "plt.gca().invert_yaxis()\n"
   ]
  },
  {
   "cell_type": "markdown",
   "metadata": {},
   "source": [
    "### Density plot"
   ]
  },
  {
   "cell_type": "code",
   "execution_count": null,
   "metadata": {},
   "outputs": [],
   "source": [
    "fig = plt.figure(figsize=(9, 7))\n",
    "plt.hexbin(col, abs_mag, cmap='Blues',bins='log')\n",
    "plt.ylim([-5, 7.5])\n",
    "plt.xlim([-0.5, 4])\n",
    "plt.ylabel('$M_{G}$')\n",
    "plt.xlabel('$m_{Bp}-m_{Rp}$')\n",
    "plt.gca().invert_yaxis()\n",
    "cbar = plt.colorbar(extend='both')\n"
   ]
  },
  {
   "cell_type": "markdown",
   "metadata": {},
   "source": [
    "### Changing the selction function\n",
    "Now we search for stars within a given distance from the Sun (50 pc)"
   ]
  },
  {
   "cell_type": "code",
   "execution_count": null,
   "metadata": {},
   "outputs": [],
   "source": [
    "job = Gaia.launch_job_async(\"SELECT * \\\n",
    "FROM gaiaedr3.gaia_source AS gaia \\\n",
    "WHERE \\\n",
    "gaia.phot_g_mean_mag < 16 AND \\\n",
    "gaia.parallax > 20 AND \\\n",
    "gaia.parallax_error/gaia.parallax <= 0.10;\", dump_to_file=False)"
   ]
  },
  {
   "cell_type": "code",
   "execution_count": null,
   "metadata": {},
   "outputs": [],
   "source": [
    "res2 = job.get_results()\n",
    "len(res2)\n"
   ]
  },
  {
   "cell_type": "code",
   "execution_count": null,
   "metadata": {},
   "outputs": [],
   "source": [
    "abs_mag2=res2['phot_g_mean_mag']-5*np.log10(1000./res2['parallax'])+5;\n",
    "col2=res2['phot_bp_mean_mag']-res2['phot_rp_mean_mag'];\n",
    "fig = plt.figure(figsize=(9, 7))\n",
    "plt.hexbin(col2, abs_mag2, cmap='Blues',bins='log')\n",
    "#plt.ylim([-5, 10.5])\n",
    "#plt.xlim([-0.5, 4])\n",
    "plt.ylabel('$M_{G}$')\n",
    "plt.xlabel('$m_{Bp}-m_{Rp}$')\n",
    "plt.gca().invert_yaxis()\n",
    "cbar = plt.colorbar(extend='both')\n",
    "\n"
   ]
  },
  {
   "cell_type": "markdown",
   "metadata": {},
   "source": [
    "##  Misc"
   ]
  },
  {
   "cell_type": "markdown",
   "metadata": {},
   "source": [
    "convert an astropy table into pandas dataframe"
   ]
  },
  {
   "cell_type": "code",
   "execution_count": null,
   "metadata": {},
   "outputs": [],
   "source": [
    "df=res2.to_pandas()"
   ]
  }
 ],
 "metadata": {
  "kernelspec": {
   "display_name": "Python 3",
   "language": "python",
   "name": "python3"
  },
  "language_info": {
   "codemirror_mode": {
    "name": "ipython",
    "version": 3
   },
   "file_extension": ".py",
   "mimetype": "text/x-python",
   "name": "python",
   "nbconvert_exporter": "python",
   "pygments_lexer": "ipython3",
   "version": "3.8.5"
  }
 },
 "nbformat": 4,
 "nbformat_minor": 2
}
